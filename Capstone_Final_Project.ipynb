{
 "cells": [
  {
   "cell_type": "markdown",
   "metadata": {},
   "source": [
    "# Capstone Final Project - The Battle of the Neighborhoods \n",
    "### Applied Data Science Capstone by IBM/Coursera"
   ]
  },
  {
   "cell_type": "markdown",
   "metadata": {},
   "source": [
    "## Table of contents\n",
    "* [Introduction: Business Problem](#introduction)\n",
    "* [Data](#data)\n",
    "* [Methodology](#methodology)\n",
    "* [Analysis](#analysis)\n",
    "* [Results and Discussion](#results)\n",
    "* [Conclusion](#conclusion)"
   ]
  },
  {
   "cell_type": "markdown",
   "metadata": {},
   "source": [
    "\n",
    "\n",
    "## Introduction: Business Problem <a name=\"introduction\"></a>"
   ]
  },
  {
   "cell_type": "markdown",
   "metadata": {},
   "source": [
    "In this project we will be working alongside the **Toronto Public Health** Division. Toronto Public Health (TPH) reports to the Board of Health and is responsible for the health and well-being of all 2.9 million residents. TPH has focused on protecting and promoting the health of Toronto residents since 1883 by:\n",
    "\n",
    "* preventing the spread of disease, promoting healthy living and advocating for conditions that improve health for Toronto residents\n",
    "* using surveillance to monitor the health status of the population in order to respond to on-going and emerging health needs\n",
    "* developing and implementing public policy and practices that enhance the health of individuals, communities and the entire city\n",
    "\n",
    "![alt text](http://www.gtaweekly.ca/wp-content/uploads/2019/07/PublicHealth-678x381.jpeg \"Toronto Public Health Logo\")\n",
    "\n",
    "To address the unique needs of their community they wanted to research the effect of **Neighborhood and Built Environment** as social determinants of health and include any convenient measures to their 2020-2024 Strategic Plan. In order to do so we will use data science to determine if there are significant differences between neighborhoods, and if so, generate a cluster of neighborhoods that are in need of more help. "
   ]
  },
  {
   "cell_type": "markdown",
   "metadata": {},
   "source": [
    "## Data <a name=\"data\"></a>"
   ]
  },
  {
   "cell_type": "markdown",
   "metadata": {},
   "source": [
    "Based on the definition of our problem, possible factors that could determine how living in a certain neighborhood could affect health are:\n",
    "* Poverty\n",
    "* Access to foods that support healthy eating patterns\n",
    "* Access to parks, fitness or recreation centers\n",
    "* Crime and Violence\n",
    "* Environmental Conditions\n",
    "* Access to Health Care  \n",
    "\n",
    "The following data sources will be needed to extract/generate the required information:\n",
    "* List of Toronto's neighborhoods, previously extracted in this course\n",
    "* Access to the different services, their type and location in every neighborhood will be obtained using **Foursquare API**\n",
    "* Income data will be obtained from the **Canadian census**\n",
    "* Crime rates will be obtained from data from the **Toronto Police Service**\n",
    "* Air Quality Health Index (AQHI) data will be obtained from the **Ministry of Environment, Conservation and Parks**"
   ]
  }
 ],
 "metadata": {
  "kernelspec": {
   "display_name": "Python",
   "language": "python",
   "name": "conda-env-python-py"
  },
  "language_info": {
   "codemirror_mode": {
    "name": "ipython",
    "version": 3
   },
   "file_extension": ".py",
   "mimetype": "text/x-python",
   "name": "python",
   "nbconvert_exporter": "python",
   "pygments_lexer": "ipython3",
   "version": "3.6.7"
  }
 },
 "nbformat": 4,
 "nbformat_minor": 4
}
